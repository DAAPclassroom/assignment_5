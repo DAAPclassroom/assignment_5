{
 "cells": [
  {
   "cell_type": "markdown",
   "metadata": {},
   "source": [
    "##### Assignment 5\n",
    "\n",
    "Due: **10:00 08. July 2025**\n",
    "\n",
    "Discussion: **12:00 08. July 2025**\n",
    "\n",
    "**Online submission** at via github classroom  "
   ]
  },
  {
   "cell_type": "code",
   "execution_count": 1,
   "metadata": {},
   "outputs": [],
   "source": [
    "%matplotlib inline"
   ]
  },
  {
   "cell_type": "markdown",
   "metadata": {},
   "source": [
    "# 1. Regression - Fitting a line [data exercise] **[25 Points]**"
   ]
  },
  {
   "cell_type": "markdown",
   "metadata": {},
   "source": [
    "In this problem we will fit a linear function $f(x) = y_0 + \\beta_0 x$ to the data from datafile: `Data/line_data.dat`."
   ]
  },
  {
   "cell_type": "markdown",
   "metadata": {},
   "source": [
    "**a)** Perform the linear regression to fit a linear function $f(x) = y_0 + \\beta_0 x$ and plot $f(x)$ together with the data points. **15 Points**"
   ]
  },
  {
   "cell_type": "markdown",
   "metadata": {},
   "source": [
    "**b)** Compute the residuals and plot them. What is $R^2$? **10 Points**"
   ]
  },
  {
   "cell_type": "markdown",
   "metadata": {},
   "source": [
    "# 2. Regression - Fitting a paraboloid [data exercise] **[25 Points]**"
   ]
  },
  {
   "cell_type": "markdown",
   "metadata": {},
   "source": [
    "In this problem we will fit a linear function $f(x, y) = \\beta_0 + \\beta_1 x + \\beta_2 y + \\beta_3 x^2 + \\beta_4 y^2$ to the data from datafile: `Data/paraboloid_data.dat`.\n",
    "\n",
    "*Note: although $f(x, y)$ is technically quadratic in $x$ and $y$, it is still linear in terms of the fitting parameters $\\beta_i$*"
   ]
  },
  {
   "cell_type": "markdown",
   "metadata": {},
   "source": [
    "**a)** Perform the linear regression to fit a linear function $f(x, y) = \\beta_0 + \\beta_1 x + \\beta_2 y + \\beta_3 x^2 + \\beta_4 y^2$ and plot\n",
    "$f(x)$ together with the data points. **15 Points**"
   ]
  },
  {
   "cell_type": "markdown",
   "metadata": {},
   "source": [
    "**b)** Plot the residuals and compute  $R^2$. **10 Points**"
   ]
  },
  {
   "cell_type": "markdown",
   "metadata": {},
   "source": [
    "# 3. Model fit quality assessment **[10 Points]**"
   ]
  },
  {
   "cell_type": "markdown",
   "metadata": {},
   "source": [
    "In this problem you will assess the quality of a fit by inspecting the residuals of the fit. For each of the\n",
    "following plots state whether the residuals indicate a reasonable model fit and briefly explain your\n",
    "conclusion and if applicable how possibly to improve the fit. **10 Points**"
   ]
  },
  {
   "cell_type": "markdown",
   "metadata": {},
   "source": [
    "![test](images/residuals.jpg)"
   ]
  },
  {
   "cell_type": "markdown",
   "metadata": {},
   "source": [
    "# 4. Vibrations on a string **[40 Points]**"
   ]
  },
  {
   "cell_type": "markdown",
   "metadata": {},
   "source": [
    "Consider a simplified 1-D example of standing waves on a vibrating string. The string is $1m$ in length, and the measured displacement is given in `string.dat`. We will want to analyse the amplitudes of the fundamental (dominant) mode and the overtones, which can be done by performing linear regression on the residuals."
   ]
  },
  {
   "cell_type": "markdown",
   "metadata": {},
   "source": [
    "**a)** Perform a linear regression to find the amplitude of the dominant mode. Plot the fit along with the measurements provided. What is $R^2$? **10 points**"
   ]
  },
  {
   "cell_type": "markdown",
   "metadata": {},
   "source": [
    " > *Hint:* Use the equation for an oscillating string, $f(x) = \\sum_{n=1}^N \\beta_n \\mathrm{sin}(\\frac{n\\pi}{L} x)$, for $(N-1)$ overtones on the fundamental mode."
   ]
  },
  {
   "cell_type": "markdown",
   "metadata": {},
   "source": [
    "**b)** Successively repeat **a)** by successively including the next five overtones in your model. Summarise the results and the corresponding $R^2$ in a table. **15 points**"
   ]
  },
  {
   "cell_type": "markdown",
   "metadata": {},
   "source": [
    "**c)** Can you calculate more overtones? If so, how many and what are they? Are there any benefits or issues in calculating more overtones? Which is the model of best-fit? **15 points**"
   ]
  },
  {
   "cell_type": "code",
   "execution_count": null,
   "metadata": {},
   "outputs": [],
   "source": []
  }
 ],
 "metadata": {
  "date": "",
  "kernelspec": {
   "display_name": "Python 3 (ipykernel)",
   "language": "python",
   "name": "python3"
  },
  "language_info": {
   "codemirror_mode": {
    "name": "ipython",
    "version": 3
   },
   "file_extension": ".py",
   "mimetype": "text/x-python",
   "name": "python",
   "nbconvert_exporter": "python",
   "pygments_lexer": "ipython3",
   "version": "3.11.5"
  },
  "title": ""
 },
 "nbformat": 4,
 "nbformat_minor": 4
}
